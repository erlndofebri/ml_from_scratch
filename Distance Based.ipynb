{
 "cells": [
  {
   "cell_type": "code",
   "execution_count": 1,
   "id": "b078d700",
   "metadata": {
    "ExecuteTime": {
     "end_time": "2023-03-27T01:30:15.784206Z",
     "start_time": "2023-03-27T01:30:10.352694Z"
    }
   },
   "outputs": [],
   "source": [
    "import pandas as pd\n",
    "import numpy as np\n",
    "import matplotlib.pyplot as plt\n",
    "import seaborn as sns"
   ]
  },
  {
   "cell_type": "code",
   "execution_count": 42,
   "id": "74af0af2",
   "metadata": {
    "ExecuteTime": {
     "end_time": "2023-03-27T02:00:01.625888Z",
     "start_time": "2023-03-27T02:00:01.618449Z"
    }
   },
   "outputs": [],
   "source": [
    "# function for finding OLS\n",
    "def ols(x1, x2, y):\n",
    "    n = len(y)\n",
    "    x = np.column_stack((np.ones(n), x1, x2))\n",
    "    beta_hat = np.linalg.inv(x.T.dot(x)).dot(x.T).dot(y)\n",
    "    \n",
    "    intercept = beta_hat[0]\n",
    "    slope_1 = beta_hat[1]\n",
    "    slope_2 = beta_hat[2]\n",
    "    \n",
    "    return intercept, slope_1, slope_2, beta_hat"
   ]
  },
  {
   "cell_type": "code",
   "execution_count": 39,
   "id": "ab9e6a40",
   "metadata": {
    "ExecuteTime": {
     "end_time": "2023-03-27T01:55:18.904618Z",
     "start_time": "2023-03-27T01:55:18.896547Z"
    }
   },
   "outputs": [],
   "source": [
    "# make function for ploting decision boundary\n",
    "def plot_decision_boundary(X, intercept, slope_1, slope_2):\n",
    "    \n",
    "    # X --> Inputs\n",
    "    # w --> weights\n",
    "    # b --> bias\n",
    "    \n",
    "    # The Line is y=mx+c\n",
    "    # So, Equate mx+c = w.X + b\n",
    "    # Solving we find m and c\n",
    "    x1 = np.linspace(-1,2,100)\n",
    "    m = -slope_1/slope_2\n",
    "    c = -intercept/slope_2\n",
    "    x2 = m*x1 + c\n",
    "    \n",
    "    # Plotting\n",
    "    fig = plt.figure(figsize=(5,5))\n",
    "    sns.scatterplot(data=df, \n",
    "                    x=\"X1\", \n",
    "                    y=\"X2\", \n",
    "                    hue=\"y\")\n",
    "    plt.xlim(-1, 2)\n",
    "    plt.ylim(-1, 2)\n",
    "    \n",
    "    plt.plot(x1, x2, \"red\")"
   ]
  },
  {
   "cell_type": "code",
   "execution_count": 71,
   "id": "82baab0d",
   "metadata": {
    "ExecuteTime": {
     "end_time": "2023-03-27T06:38:31.221348Z",
     "start_time": "2023-03-27T06:38:31.209168Z"
    }
   },
   "outputs": [],
   "source": [
    "# function for predicting given data\n",
    "def predict(X):    \n",
    "    # Calculate the predicted values of y for each observation in the dataset\n",
    "    y_pred = beta_hat[0] + beta_hat[1]*df['X1'] + beta_hat[2]*df['X2']\n",
    "\n",
    "    # Classify the predicted values of y using a threshold value of 0\n",
    "    y_class = np.where(y_pred > 0, 1, -1)\n",
    "    \n",
    "    return y_class"
   ]
  },
  {
   "cell_type": "code",
   "execution_count": 73,
   "id": "d096b17f",
   "metadata": {
    "ExecuteTime": {
     "end_time": "2023-03-27T06:38:34.403401Z",
     "start_time": "2023-03-27T06:38:34.397195Z"
    }
   },
   "outputs": [],
   "source": [
    "# accuracy\n",
    "def accuracy(y, y_hat):\n",
    "    accuracy = np.sum(y == y_hat) / len(y)\n",
    "    return accuracy"
   ]
  },
  {
   "cell_type": "code",
   "execution_count": 63,
   "id": "3dfc77f7",
   "metadata": {
    "ExecuteTime": {
     "end_time": "2023-03-27T06:37:59.132523Z",
     "start_time": "2023-03-27T06:37:59.075910Z"
    }
   },
   "outputs": [
    {
     "data": {
      "text/html": [
       "<div>\n",
       "<style scoped>\n",
       "    .dataframe tbody tr th:only-of-type {\n",
       "        vertical-align: middle;\n",
       "    }\n",
       "\n",
       "    .dataframe tbody tr th {\n",
       "        vertical-align: top;\n",
       "    }\n",
       "\n",
       "    .dataframe thead th {\n",
       "        text-align: right;\n",
       "    }\n",
       "</style>\n",
       "<table border=\"1\" class=\"dataframe\">\n",
       "  <thead>\n",
       "    <tr style=\"text-align: right;\">\n",
       "      <th></th>\n",
       "      <th>X1</th>\n",
       "      <th>X2</th>\n",
       "      <th>y</th>\n",
       "    </tr>\n",
       "  </thead>\n",
       "  <tbody>\n",
       "    <tr>\n",
       "      <th>0</th>\n",
       "      <td>0</td>\n",
       "      <td>0</td>\n",
       "      <td>-1</td>\n",
       "    </tr>\n",
       "    <tr>\n",
       "      <th>1</th>\n",
       "      <td>0</td>\n",
       "      <td>1</td>\n",
       "      <td>1</td>\n",
       "    </tr>\n",
       "    <tr>\n",
       "      <th>2</th>\n",
       "      <td>1</td>\n",
       "      <td>0</td>\n",
       "      <td>1</td>\n",
       "    </tr>\n",
       "    <tr>\n",
       "      <th>3</th>\n",
       "      <td>1</td>\n",
       "      <td>1</td>\n",
       "      <td>1</td>\n",
       "    </tr>\n",
       "  </tbody>\n",
       "</table>\n",
       "</div>"
      ],
      "text/plain": [
       "   X1  X2  y\n",
       "0   0   0 -1\n",
       "1   0   1  1\n",
       "2   1   0  1\n",
       "3   1   1  1"
      ]
     },
     "execution_count": 63,
     "metadata": {},
     "output_type": "execute_result"
    }
   ],
   "source": [
    "# Make dataset\n",
    "dictt = {\n",
    "    \"X1\":[0,0,1,1],\n",
    "    \"X2\":[0,1,0,1],\n",
    "    \"y\":[-1,1,1,1]\n",
    "}\n",
    "\n",
    "df = pd.DataFrame(dictt)\n",
    "df"
   ]
  },
  {
   "cell_type": "code",
   "execution_count": 64,
   "id": "59ef8c2a",
   "metadata": {
    "ExecuteTime": {
     "end_time": "2023-03-27T06:38:01.001537Z",
     "start_time": "2023-03-27T06:38:00.991232Z"
    }
   },
   "outputs": [],
   "source": [
    "# Extract the values from the DataFrame\n",
    "x = df[['X1', 'X2']].values\n",
    "y = df['y'].values"
   ]
  },
  {
   "cell_type": "code",
   "execution_count": 65,
   "id": "19869156",
   "metadata": {
    "ExecuteTime": {
     "end_time": "2023-03-27T06:38:03.454506Z",
     "start_time": "2023-03-27T06:38:03.092755Z"
    }
   },
   "outputs": [
    {
     "name": "stderr",
     "output_type": "stream",
     "text": [
      "/opt/anaconda3/lib/python3.9/site-packages/seaborn/_decorators.py:36: FutureWarning: Pass the following variables as keyword args: x, y. From version 0.12, the only valid positional argument will be `data`, and passing other arguments without an explicit keyword will result in an error or misinterpretation.\n",
      "  warnings.warn(\n"
     ]
    },
    {
     "data": {
      "text/plain": [
       "<AxesSubplot:xlabel='X1', ylabel='X2'>"
      ]
     },
     "execution_count": 65,
     "metadata": {},
     "output_type": "execute_result"
    },
    {
     "data": {
      "image/png": "[encoded data removed]",
      "text/plain": [
       "<Figure size 432x288 with 1 Axes>"
      ]
     },
     "metadata": {
      "needs_background": "light"
     },
     "output_type": "display_data"
    }
   ],
   "source": [
    "# plot existing dataset\n",
    "sns.scatterplot(df[\"X1\"], df[\"X2\"], hue=df['y'], legend=None)"
   ]
  },
  {
   "cell_type": "code",
   "execution_count": 66,
   "id": "f5b41147",
   "metadata": {
    "ExecuteTime": {
     "end_time": "2023-03-27T06:38:08.187070Z",
     "start_time": "2023-03-27T06:38:08.173569Z"
    }
   },
   "outputs": [
    {
     "data": {
      "text/plain": [
       "(-0.5, 1.0, 1.0)"
      ]
     },
     "execution_count": 66,
     "metadata": {},
     "output_type": "execute_result"
    }
   ],
   "source": [
    "# Calculate the OLS coeff\n",
    "intercept, slope_1, slope_2, beta_hat = ols(X.iloc[:,0], X.iloc[:,1], y)\n",
    "intercept, slope_1, slope_2"
   ]
  },
  {
   "cell_type": "code",
   "execution_count": 67,
   "id": "129df3dc",
   "metadata": {
    "ExecuteTime": {
     "end_time": "2023-03-27T06:38:10.546560Z",
     "start_time": "2023-03-27T06:38:10.495216Z"
    }
   },
   "outputs": [
    {
     "data": {
      "text/plain": [
       "array([-0.5,  1. ,  1. ])"
      ]
     },
     "execution_count": 67,
     "metadata": {},
     "output_type": "execute_result"
    }
   ],
   "source": [
    "beta_hat"
   ]
  },
  {
   "cell_type": "code",
   "execution_count": 68,
   "id": "658f1851",
   "metadata": {
    "ExecuteTime": {
     "end_time": "2023-03-27T06:38:12.942303Z",
     "start_time": "2023-03-27T06:38:12.607436Z"
    }
   },
   "outputs": [
    {
     "data": {
      "image/png": "[encoded data removed]",
      "text/plain": [
       "<Figure size 360x360 with 1 Axes>"
      ]
     },
     "metadata": {
      "needs_background": "light"
     },
     "output_type": "display_data"
    }
   ],
   "source": [
    "# plot decision boundary\n",
    "plot_decision_boundary(X, intercept, slope_1, slope_2)"
   ]
  },
  {
   "cell_type": "code",
   "execution_count": 72,
   "id": "e24fa8ac",
   "metadata": {
    "ExecuteTime": {
     "end_time": "2023-03-27T06:38:32.740391Z",
     "start_time": "2023-03-27T06:38:32.717773Z"
    }
   },
   "outputs": [
    {
     "data": {
      "text/plain": [
       "array([-1,  1,  1,  1])"
      ]
     },
     "execution_count": 72,
     "metadata": {},
     "output_type": "execute_result"
    }
   ],
   "source": [
    "# predict\n",
    "y_hat = predict(X)\n",
    "y_hat"
   ]
  },
  {
   "cell_type": "code",
   "execution_count": 74,
   "id": "397e739c",
   "metadata": {
    "ExecuteTime": {
     "end_time": "2023-03-27T06:38:35.812497Z",
     "start_time": "2023-03-27T06:38:35.799479Z"
    }
   },
   "outputs": [
    {
     "data": {
      "text/plain": [
       "1.0"
      ]
     },
     "execution_count": 74,
     "metadata": {},
     "output_type": "execute_result"
    }
   ],
   "source": [
    "# find accuracy score\n",
    "accuracy(y, y_hat)"
   ]
  }
 ],
 "metadata": {
  "kernelspec": {
   "display_name": "Python 3 (ipykernel)",
   "language": "python",
   "name": "python3"
  },
  "language_info": {
   "codemirror_mode": {
    "name": "ipython",
    "version": 3
   },
   "file_extension": ".py",
   "mimetype": "text/x-python",
   "name": "python",
   "nbconvert_exporter": "python",
   "pygments_lexer": "ipython3",
   "version": "3.9.7"
  },
  "toc": {
   "base_numbering": 1,
   "nav_menu": {},
   "number_sections": true,
   "sideBar": true,
   "skip_h1_title": false,
   "title_cell": "Table of Contents",
   "title_sidebar": "Contents",
   "toc_cell": false,
   "toc_position": {},
   "toc_section_display": true,
   "toc_window_display": false
  }
 },
 "nbformat": 4,
 "nbformat_minor": 5
}
