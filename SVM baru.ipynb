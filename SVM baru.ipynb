{
 "cells": [
  {
   "cell_type": "code",
   "execution_count": 1,
   "id": "6533ef8c",
   "metadata": {
    "ExecuteTime": {
     "end_time": "2023-03-28T04:25:10.173755Z",
     "start_time": "2023-03-28T04:25:07.841936Z"
    }
   },
   "outputs": [],
   "source": [
    "import numpy as np\n",
    "import pandas as pd\n",
    "import random"
   ]
  },
  {
   "cell_type": "code",
   "execution_count": 2,
   "id": "8713200a",
   "metadata": {
    "ExecuteTime": {
     "end_time": "2023-03-28T04:25:10.240593Z",
     "start_time": "2023-03-28T04:25:10.230117Z"
    }
   },
   "outputs": [],
   "source": [
    "def calculate_F(X_star, X, y, alpha, beta):\n",
    "    result = []\n",
    "    \n",
    "    n_samples = len(X)\n",
    "\n",
    "    for i in range(n_samples):\n",
    "        # calculate EI (equation 2)\n",
    "        E = alpha[i] * y[i] * np.dot(X[i], X_star)\n",
    "        result.append(E)\n",
    "\n",
    "        fx = np.sum(result) + beta\n",
    "        \n",
    "        return fx"
   ]
  },
  {
   "cell_type": "code",
   "execution_count": 3,
   "id": "85255955",
   "metadata": {
    "ExecuteTime": {
     "end_time": "2023-03-28T04:25:10.271187Z",
     "start_time": "2023-03-28T04:25:10.263336Z"
    }
   },
   "outputs": [],
   "source": [
    "def calculate_E(X_star,y_star, X, y, alpha, beta):\n",
    "    # Ei = f(xi) - yi\n",
    "    fx = calculate_F(X_star, X, y, alpha, beta)\n",
    "    \n",
    "    # calculate Ei\n",
    "    Ei = fx - y_star\n",
    "    \n",
    "    return Ei"
   ]
  },
  {
   "cell_type": "code",
   "execution_count": 4,
   "id": "91d593b7",
   "metadata": {
    "ExecuteTime": {
     "end_time": "2023-03-28T04:25:10.289610Z",
     "start_time": "2023-03-28T04:25:10.279908Z"
    }
   },
   "outputs": [],
   "source": [
    "def generate_random_j(n_samples, i):\n",
    "    j = np.random.choice(n_samples)\n",
    "    \n",
    "    if j != i:\n",
    "        return j\n",
    "    else:\n",
    "        generate_random_j(n_samples, i)"
   ]
  },
  {
   "cell_type": "code",
   "execution_count": 5,
   "id": "54006083",
   "metadata": {
    "ExecuteTime": {
     "end_time": "2023-03-28T04:25:10.308041Z",
     "start_time": "2023-03-28T04:25:10.298246Z"
    }
   },
   "outputs": [],
   "source": [
    "def cal_boundary(y_i, y_j, a_i, a_j, C):\n",
    "    \n",
    "    if y_i != y_j:\n",
    "        L = max(0, a_j - a_i)\n",
    "        H = min(C, C + a_j - a_i)\n",
    "    else:\n",
    "        L = max(0, a_i + a_j - C)\n",
    "        H = min(C, a_i + a_j)\n",
    "        \n",
    "    return L, H"
   ]
  },
  {
   "cell_type": "code",
   "execution_count": 6,
   "id": "21c43192",
   "metadata": {
    "ExecuteTime": {
     "end_time": "2023-03-28T04:25:10.330648Z",
     "start_time": "2023-03-28T04:25:10.317702Z"
    }
   },
   "outputs": [],
   "source": [
    "# equation 14\n",
    "def cal_eta(X_i, X_j):\n",
    "    \n",
    "    eta = (2 * np.dot(X_i, X_j)) - np.dot(X_i, X_i) - np.dot(X_j, X_j)\n",
    "    \n",
    "    return eta"
   ]
  },
  {
   "cell_type": "code",
   "execution_count": 7,
   "id": "72e47143",
   "metadata": {
    "ExecuteTime": {
     "end_time": "2023-03-28T04:25:10.381217Z",
     "start_time": "2023-03-28T04:25:10.337215Z"
    }
   },
   "outputs": [
    {
     "data": {
      "text/html": [
       "<div>\n",
       "<style scoped>\n",
       "    .dataframe tbody tr th:only-of-type {\n",
       "        vertical-align: middle;\n",
       "    }\n",
       "\n",
       "    .dataframe tbody tr th {\n",
       "        vertical-align: top;\n",
       "    }\n",
       "\n",
       "    .dataframe thead th {\n",
       "        text-align: right;\n",
       "    }\n",
       "</style>\n",
       "<table border=\"1\" class=\"dataframe\">\n",
       "  <thead>\n",
       "    <tr style=\"text-align: right;\">\n",
       "      <th></th>\n",
       "      <th>X1</th>\n",
       "      <th>X2</th>\n",
       "      <th>y</th>\n",
       "    </tr>\n",
       "  </thead>\n",
       "  <tbody>\n",
       "    <tr>\n",
       "      <th>0</th>\n",
       "      <td>0</td>\n",
       "      <td>0</td>\n",
       "      <td>-1</td>\n",
       "    </tr>\n",
       "    <tr>\n",
       "      <th>1</th>\n",
       "      <td>0</td>\n",
       "      <td>1</td>\n",
       "      <td>1</td>\n",
       "    </tr>\n",
       "    <tr>\n",
       "      <th>2</th>\n",
       "      <td>1</td>\n",
       "      <td>0</td>\n",
       "      <td>1</td>\n",
       "    </tr>\n",
       "    <tr>\n",
       "      <th>3</th>\n",
       "      <td>1</td>\n",
       "      <td>1</td>\n",
       "      <td>1</td>\n",
       "    </tr>\n",
       "  </tbody>\n",
       "</table>\n",
       "</div>"
      ],
      "text/plain": [
       "   X1  X2  y\n",
       "0   0   0 -1\n",
       "1   0   1  1\n",
       "2   1   0  1\n",
       "3   1   1  1"
      ]
     },
     "execution_count": 7,
     "metadata": {},
     "output_type": "execute_result"
    }
   ],
   "source": [
    "dictt = {\n",
    "    \"X1\":[0,0,1,1],\n",
    "    \"X2\":[0,1,0,1],\n",
    "    \"y\":[-1,1,1,1]\n",
    "}\n",
    "\n",
    "df = pd.DataFrame(dictt)\n",
    "df"
   ]
  },
  {
   "cell_type": "code",
   "execution_count": 8,
   "id": "8a2c24c9",
   "metadata": {
    "ExecuteTime": {
     "end_time": "2023-03-28T04:25:10.403295Z",
     "start_time": "2023-03-28T04:25:10.394507Z"
    }
   },
   "outputs": [],
   "source": [
    "C = 0.1\n",
    "tol = 1e-6\n",
    "max_passes = 10"
   ]
  },
  {
   "cell_type": "code",
   "execution_count": 9,
   "id": "3c1a16e1",
   "metadata": {
    "ExecuteTime": {
     "end_time": "2023-03-28T04:25:10.421594Z",
     "start_time": "2023-03-28T04:25:10.410997Z"
    }
   },
   "outputs": [],
   "source": [
    "X = np.array(df[[\"X1\", \"X2\"]])\n",
    "y = np.array(df[\"y\"])"
   ]
  },
  {
   "cell_type": "code",
   "execution_count": 10,
   "id": "0f2d4d5c",
   "metadata": {
    "ExecuteTime": {
     "end_time": "2023-03-28T04:25:10.443003Z",
     "start_time": "2023-03-28T04:25:10.428700Z"
    }
   },
   "outputs": [
    {
     "data": {
      "text/plain": [
       "array([[0, 0],\n",
       "       [0, 1],\n",
       "       [1, 0],\n",
       "       [1, 1]])"
      ]
     },
     "execution_count": 10,
     "metadata": {},
     "output_type": "execute_result"
    }
   ],
   "source": [
    "X"
   ]
  },
  {
   "cell_type": "code",
   "execution_count": 11,
   "id": "d042ef0c",
   "metadata": {
    "ExecuteTime": {
     "end_time": "2023-03-28T04:25:10.468652Z",
     "start_time": "2023-03-28T04:25:10.452132Z"
    }
   },
   "outputs": [
    {
     "data": {
      "text/plain": [
       "array([-1,  1,  1,  1])"
      ]
     },
     "execution_count": 11,
     "metadata": {},
     "output_type": "execute_result"
    }
   ],
   "source": [
    "y"
   ]
  },
  {
   "cell_type": "code",
   "execution_count": 12,
   "id": "0061e1d7",
   "metadata": {
    "ExecuteTime": {
     "end_time": "2023-03-28T04:25:10.484181Z",
     "start_time": "2023-03-28T04:25:10.474625Z"
    }
   },
   "outputs": [],
   "source": [
    "n_samples = len(X)\n",
    "\n",
    "# initialize\n",
    "alpha = np.zeros(n_samples)\n",
    "beta = 0\n",
    "passes = 0"
   ]
  },
  {
   "cell_type": "code",
   "execution_count": 13,
   "id": "103cd944",
   "metadata": {
    "ExecuteTime": {
     "end_time": "2023-03-28T04:25:10.512206Z",
     "start_time": "2023-03-28T04:25:10.495253Z"
    }
   },
   "outputs": [
    {
     "data": {
      "text/plain": [
       "4"
      ]
     },
     "execution_count": 13,
     "metadata": {},
     "output_type": "execute_result"
    }
   ],
   "source": [
    "n_samples"
   ]
  },
  {
   "cell_type": "code",
   "execution_count": 33,
   "id": "1e83f433",
   "metadata": {
    "ExecuteTime": {
     "end_time": "2023-03-28T04:48:36.982941Z",
     "start_time": "2023-03-28T04:48:36.965094Z"
    }
   },
   "outputs": [],
   "source": [
    "while passes > max_passes:\n",
    "    mum_changed_alphas = 0\n",
    "    \n",
    "    for i in range(n_samples):\n",
    "        # extract data index i\n",
    "        X_i = X[i]\n",
    "        y_i = y[i]\n",
    "        a_i = alpha[i]\n",
    "        \n",
    "        # hitung ei\n",
    "        Ei = calculate_E(X_star = X_i, \n",
    "                         y_star = y_i,\n",
    "                         X = X, \n",
    "                         y = y, \n",
    "                         alpha = alpha, \n",
    "                         beta = beta)\n",
    "        \n",
    "        cond_1 = ((y_i*Ei) < -tol) and (a_i < C)\n",
    "        cond_2 = ((y_i*Ei) > tol) and (a_i > 0)\n",
    "        \n",
    "        if cond_1 or cond_2:\n",
    "            # select random j != i\n",
    "            j = generate_random_j(n_samples=n_samples, \n",
    "                                  i =i ) \n",
    "        \n",
    "            # extract data index i\n",
    "            X_j = X[j]\n",
    "            y_j = y[j]\n",
    "            a_j = alpha[j]\n",
    "\n",
    "            # hitung E_j\n",
    "            Ej = calculate_E(X_star = X_j,\n",
    "                             y_star = y_j,\n",
    "                             X = X,\n",
    "                             y = y,\n",
    "                             alpha = alpha,\n",
    "                             beta = beta)\n",
    "\n",
    "\n",
    "            # update alpha old\n",
    "            alpha_i_old = a_i\n",
    "            alpha_j_old = a_j\n",
    "\n",
    "            # compute L and H (equation 10 and 11)\n",
    "            L, H = cal_boundary(y_i = y_i, \n",
    "                                y_j = y_j, \n",
    "                                a_i = a_i, \n",
    "                                a_j = a_j, \n",
    "                                C = C)\n",
    "\n",
    "            if L == H:\n",
    "                continue\n",
    "\n",
    "            # equation 14\n",
    "            eta = cal_eta(X_i = X_i, \n",
    "                          X_j = X_j)\n",
    "\n",
    "            if eta >= 0:\n",
    "                continue\n",
    "\n",
    "            # compute and clip aj using equation 12 and 15\n",
    "\n",
    "            a_j -= (y_j * (E_i - E_j))/eta\n",
    "\n",
    "            # condition clip new value of j\n",
    "            if a_j > H:\n",
    "                a_j = H\n",
    "                \n",
    "            elif L <= a_j and a_j <= H:\n",
    "                a_j = a_j\n",
    "                \n",
    "            else:\n",
    "                a_j = L\n",
    "\n",
    "            if np.abs(a_j - alpha_j_old) < tol:\n",
    "                continue\n",
    "\n",
    "            # equation 16\n",
    "            a_i += (y_i * y_j)*(alpha_j_old - a_j)\n",
    "\n",
    "            # calculate b1 and b2 (equation 17 and 18)\n",
    "            b1 = beta - Ei \\\n",
    "                 - y_i * (a_i - alpha_i_old) * np.dot(X_i, X_i) \\\n",
    "                 - y_j * (a_j - alpha_j_old) * np.dot(X_i, X_j)\n",
    "\n",
    "            b2 = beta - Ej \\\n",
    "                 - y_i * (a_i - alpha_i_old) * np.dot(X_i, X_j) \\\n",
    "                 - y_j * (a_j - alpha_j_old) * np.dot(x_j, x_j)\n",
    "\n",
    "            # compute b with equation 19\n",
    "            if 0 < a_i and a_i < C:\n",
    "                beta = b1\n",
    "\n",
    "            elif 0 < a_j and a_j < C:\n",
    "                beta = b2\n",
    "\n",
    "            else:\n",
    "                beta = (b1+b2)/2\n",
    "\n",
    "            alpha[i] = a_i\n",
    "            alpha[j] = a_j\n",
    "            \n",
    "            num_changed_alphas =+ 1\n",
    "            \n",
    "        \n",
    "    if num_changed_alphas == 0:\n",
    "        passes += 1\n",
    "        \n",
    "    else:\n",
    "        passes += 0"
   ]
  },
  {
   "cell_type": "code",
   "execution_count": 36,
   "id": "80fa16f3",
   "metadata": {
    "ExecuteTime": {
     "end_time": "2023-03-28T04:53:08.494797Z",
     "start_time": "2023-03-28T04:53:08.486306Z"
    }
   },
   "outputs": [
    {
     "data": {
      "text/plain": [
       "array([0., 0., 0., 0.])"
      ]
     },
     "execution_count": 36,
     "metadata": {},
     "output_type": "execute_result"
    }
   ],
   "source": [
    "alpha"
   ]
  },
  {
   "cell_type": "code",
   "execution_count": 37,
   "id": "085b2de7",
   "metadata": {
    "ExecuteTime": {
     "end_time": "2023-03-28T04:53:09.452934Z",
     "start_time": "2023-03-28T04:53:09.446119Z"
    }
   },
   "outputs": [
    {
     "data": {
      "text/plain": [
       "0"
      ]
     },
     "execution_count": 37,
     "metadata": {},
     "output_type": "execute_result"
    }
   ],
   "source": [
    "beta"
   ]
  },
  {
   "cell_type": "code",
   "execution_count": 17,
   "id": "38626083",
   "metadata": {
    "ExecuteTime": {
     "end_time": "2023-03-28T04:28:48.793061Z",
     "start_time": "2023-03-28T04:28:48.787493Z"
    }
   },
   "outputs": [],
   "source": [
    "def calculate_w(alpha, X, y):\n",
    "    w = np.dot(X.T, alpha*y)\n",
    "    return w"
   ]
  },
  {
   "cell_type": "code",
   "execution_count": 23,
   "id": "6ae03e34",
   "metadata": {
    "ExecuteTime": {
     "end_time": "2023-03-28T04:31:44.108394Z",
     "start_time": "2023-03-28T04:31:44.099286Z"
    }
   },
   "outputs": [
    {
     "data": {
      "text/plain": [
       "array([0., 0.])"
      ]
     },
     "execution_count": 23,
     "metadata": {},
     "output_type": "execute_result"
    }
   ],
   "source": [
    "w = calculate_w(alpha = alpha, X=X, y=y)\n",
    "w"
   ]
  },
  {
   "cell_type": "code",
   "execution_count": 31,
   "id": "3facb021",
   "metadata": {
    "ExecuteTime": {
     "end_time": "2023-03-28T04:35:08.137277Z",
     "start_time": "2023-03-28T04:35:08.128999Z"
    }
   },
   "outputs": [],
   "source": [
    "def predict(X, w, b):\n",
    "    y_pred = np.dot(w, X) + b\n",
    "    \n",
    "    return np.sign((y_pred>0)).astype(int)"
   ]
  },
  {
   "cell_type": "code",
   "execution_count": null,
   "id": "63b125ee",
   "metadata": {},
   "outputs": [],
   "source": []
  }
 ],
 "metadata": {
  "kernelspec": {
   "display_name": "Python 3 (ipykernel)",
   "language": "python",
   "name": "python3"
  },
  "language_info": {
   "codemirror_mode": {
    "name": "ipython",
    "version": 3
   },
   "file_extension": ".py",
   "mimetype": "text/x-python",
   "name": "python",
   "nbconvert_exporter": "python",
   "pygments_lexer": "ipython3",
   "version": "3.9.7"
  },
  "toc": {
   "base_numbering": 1,
   "nav_menu": {},
   "number_sections": true,
   "sideBar": true,
   "skip_h1_title": false,
   "title_cell": "Table of Contents",
   "title_sidebar": "Contents",
   "toc_cell": false,
   "toc_position": {},
   "toc_section_display": true,
   "toc_window_display": false
  }
 },
 "nbformat": 4,
 "nbformat_minor": 5
}
